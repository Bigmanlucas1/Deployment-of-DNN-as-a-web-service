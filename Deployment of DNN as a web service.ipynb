{
 "cells": [
  {
   "cell_type": "markdown",
   "id": "8e1b5b41",
   "metadata": {},
   "source": [
    "## HABUMUGISHA Emmanuel"
   ]
  },
  {
   "cell_type": "markdown",
   "id": "b897cdb5",
   "metadata": {},
   "source": [
    "## 225229109"
   ]
  },
  {
   "cell_type": "markdown",
   "id": "cca943ad",
   "metadata": {},
   "source": [
    "## Lab10: Deployment of DNN as a web service"
   ]
  },
  {
   "cell_type": "code",
   "execution_count": 7,
   "id": "f4eabbed",
   "metadata": {},
   "outputs": [],
   "source": [
    "import pickle\n",
    "\n"
   ]
  },
  {
   "cell_type": "code",
   "execution_count": 9,
   "id": "7ce2ac47",
   "metadata": {},
   "outputs": [
    {
     "name": "stderr",
     "output_type": "stream",
     "text": [
      "[nltk_data] Downloading package vader_lexicon to C:\\Users\\ISHIMWE K\n",
      "[nltk_data]     AHMED\\AppData\\Roaming\\nltk_data...\n"
     ]
    },
    {
     "data": {
      "text/plain": [
       "True"
      ]
     },
     "execution_count": 9,
     "metadata": {},
     "output_type": "execute_result"
    }
   ],
   "source": [
    "import nltk\n",
    "nltk.download('vader_lexicon')\n"
   ]
  },
  {
   "cell_type": "code",
   "execution_count": 10,
   "id": "0805ceb7",
   "metadata": {},
   "outputs": [],
   "source": [
    "from nltk.sentiment.vader import SentimentIntensityAnalyzer"
   ]
  },
  {
   "cell_type": "code",
   "execution_count": 11,
   "id": "6b3b71e8",
   "metadata": {},
   "outputs": [],
   "source": [
    "def train_sentiment_model():\n",
    " sid = SentimentIntensityAnalyzer()\n",
    " return sid"
   ]
  },
  {
   "cell_type": "code",
   "execution_count": 19,
   "id": "a88cfe35",
   "metadata": {},
   "outputs": [],
   "source": [
    "def predict_sentiment(model, text):\n",
    "    scores = model.polarity_scores(text)\n",
    "    compound_score = scores['compound']\n",
    "    \n",
    "    if compound_score > 0:\n",
    "        label = 'This sentence is positive'\n",
    "    elif compound_score == 0:\n",
    "         label = 'This sentence is neutral'\n",
    "    else:\n",
    "         label = 'This sentence is negative'\n",
    "    return label"
   ]
  },
  {
   "cell_type": "code",
   "execution_count": 20,
   "id": "9552b890",
   "metadata": {},
   "outputs": [],
   "source": [
    "model = train_sentiment_model()"
   ]
  },
  {
   "cell_type": "code",
   "execution_count": 21,
   "id": "660dbc5b",
   "metadata": {},
   "outputs": [],
   "source": [
    "import pickle"
   ]
  },
  {
   "cell_type": "code",
   "execution_count": 22,
   "id": "366aca19",
   "metadata": {},
   "outputs": [],
   "source": [
    "with open('sentiment_model.pkl', 'wb') as f:\n",
    " pickle.dump(model, f)"
   ]
  },
  {
   "cell_type": "code",
   "execution_count": 23,
   "id": "cd12e703",
   "metadata": {},
   "outputs": [],
   "source": [
    "with open('sentiment_model.pkl', 'rb') as f:\n",
    " loaded_model = pickle.load(f)"
   ]
  },
  {
   "cell_type": "code",
   "execution_count": 24,
   "id": "2807785b",
   "metadata": {},
   "outputs": [],
   "source": [
    "prediction = predict_sentiment(loaded_model,\"Your are so nice\")\n"
   ]
  },
  {
   "cell_type": "code",
   "execution_count": 25,
   "id": "240c0f10",
   "metadata": {},
   "outputs": [
    {
     "data": {
      "text/plain": [
       "'This sentence is positive'"
      ]
     },
     "execution_count": 25,
     "metadata": {},
     "output_type": "execute_result"
    }
   ],
   "source": [
    "prediction"
   ]
  },
  {
   "cell_type": "code",
   "execution_count": null,
   "id": "c42c0df8",
   "metadata": {},
   "outputs": [],
   "source": [
    "<html>\n",
    "<head>\n",
    " <title>Sentiment Analysis App</title>\n",
    "</head>\n",
    "<body>\n",
    " <h1>Sentiment Analysis App</h1>\n",
    " <p>Type a sentence. Click on the submit button and wait for your prediction.</p>\n",
    " <form action=\"/predict\" method=\"post\">\n",
    " <label for=\"sentence\">Enter a sentence:</label><br>\n",
    " <input type=\"text\" id=\"sentence\" name=\"sentence\"><br><br>\n",
    " <input type=\"submit\" value=\"Submit\">\n",
    " </form>\n",
    " <p id=\"prediction\"></p>\n",
    " <script>\n",
    " const form = document.querySelector('form');\n",
    " const predictionText = document.getElementById('prediction');\n",
    " form.addEventListener('submit', async (e) => {\n",
    " e.preventDefault();\n",
    " const formData = new FormData(form);\n",
    " const sentence = formData.get('sentence');\n",
    " const response = await fetch('/predict', {\n",
    " method: 'POST',\n",
    " body: JSON.stringify({ sentence }),\n",
    " headers: {\n",
    " 'Content-Type': 'application/json'\n",
    " }\n",
    " });\n",
    " const result = await response.json();\n",
    " predictionText.textContent = result.prediction;\n",
    " });\n",
    " </script>\n",
    "</body>\n",
    "</html>"
   ]
  }
 ],
 "metadata": {
  "kernelspec": {
   "display_name": "Python 3 (ipykernel)",
   "language": "python",
   "name": "python3"
  },
  "language_info": {
   "codemirror_mode": {
    "name": "ipython",
    "version": 3
   },
   "file_extension": ".py",
   "mimetype": "text/x-python",
   "name": "python",
   "nbconvert_exporter": "python",
   "pygments_lexer": "ipython3",
   "version": "3.9.13"
  }
 },
 "nbformat": 4,
 "nbformat_minor": 5
}
